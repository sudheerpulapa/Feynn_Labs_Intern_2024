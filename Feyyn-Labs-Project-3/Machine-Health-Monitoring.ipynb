{
 "cells": [
  {
   "cell_type": "markdown",
   "metadata": {},
   "source": [
    "# **Business Problem Understanding:**\n",
    "\n",
    "## **Objective:**\n",
    "The goal of this predictive maintenance project is to develop a machine learning model that can effectively predict machine failures based on a synthetic dataset provided. The dataset contains information about various features related to the manufacturing process, and the target variable includes two aspects: whether a machine failure occurred (binary classification) and the type of failure if it occurred (multi-class classification).\n",
    "\n",
    "## Dataset Description\n",
    "The dataset consists of 10,000 data points with 14 features for each observation. The features include:\n",
    "1. UID: Unique identifier ranging from 1 to 10,000.\n",
    "2. ProductID: Categorized as low (L), medium (M), or high (H) quality variants with variant-specific serial numbers.\n",
    "3. Air Temperature [K]: Generated using a random walk process, later normalized to a standard deviation of 2 K around 300 K.\n",
    "4. Process Temperature [K]: Generated using a random walk process, normalized to a standard deviation of 1 K, added to the air temperature plus 10 K.\n",
    "5. Rotational Speed [rpm]: Calculated from power of 2860 W, overlaid with normally distributed noise.\n",
    "6. Torque [Nm]: Normally distributed around 40 Nm with a standard deviation of 10 Nm and no negative values.\n",
    "7. Tool Wear [min]: Tool wear values added based on the quality variants H/M/L (5/3/2 minutes).\n",
    "8. Machine Failure Label: Indicates whether the machine failed in a particular data point for any of the specified failure modes.\n",
    "\n",
    "## Targets\n",
    "1. **Failure or Not**: Binary classification indicating whether a machine failure occurred.\n",
    "2. **Failure Type**: Multi-class classification specifying the type of failure if it occurred.\n",
    "\n",
    "## Challenge\n",
    "Predictive maintenance is crucial for minimizing downtime and reducing operational costs in the manufacturing industry. Developing an accurate model to predict failures can enable proactive maintenance interventions, optimizing resource allocation and ensuring continuous production.\n",
    "\n",
    "## Approach\n",
    "The project will involve data preprocessing, exploratory data analysis, feature engineering, and the development of machine learning models for both binary and multi-class classifications. The dataset's synthetic nature reflects real-world predictive maintenance scenarios, allowing the model to learn from various failure modes and their associated features.\n",
    "\n",
    "## Acknowledgements\n",
    "The dataset is sourced from UCI's AI4I 2020 Predictive Maintenance Dataset, which serves as a valuable resource for developing and testing predictive maintenance models.\n"
   ]
  },
  {
   "cell_type": "markdown",
   "metadata": {},
   "source": [
    "[Dataset Kaggle link](https://www.kaggle.com/datasets/shivamb/machine-predictive-maintenance-classification)"
   ]
  },
  {
   "cell_type": "markdown",
   "metadata": {},
   "source": [
    "# **Index:**\r\n",
    "\r\n",
    "| S.No | Section                          |\r\n",
    "|------|----------------------------------|\r\n",
    "| 1.   | Importing Libraries              |\r\n",
    "| 2.   | Data Acquisition                 |\r\n",
    "| 3.   | Exploratory Data Analysis        |\r\n",
    "| 4.   | Feature Engineering              |\r\n",
    "| 5.   | Machine Learning (Predictive Analytics) |\r\n",
    "| 6.   | Model Prediction                 |\r\n",
    "| 7.   | Model Evaluation                 |\r\n",
    "\r\n"
   ]
  },
  {
   "cell_type": "markdown",
   "metadata": {},
   "source": [
    "## **1. Importing Libraries:**"
   ]
  },
  {
   "cell_type": "code",
   "execution_count": 1,
   "metadata": {},
   "outputs": [],
   "source": [
    "# Import necessary libraries\n",
    "import os\n",
    "import pickle\n",
    "import pandas as pd\n",
    "from sklearn.svm import SVC\n",
    "from imblearn.over_sampling import SMOTE\n",
    "from sklearn.metrics import accuracy_score\n",
    "from sklearn.tree import DecisionTreeClassifier\n",
    "from sklearn.neighbors import KNeighborsClassifier\n",
    "from sklearn.ensemble import RandomForestClassifier\n",
    "from sklearn.model_selection import train_test_split\n",
    "from sklearn.naive_bayes import GaussianNB, MultinomialNB\n",
    "from sklearn.linear_model import LinearRegression, LogisticRegression"
   ]
  },
  {
   "cell_type": "markdown",
   "metadata": {},
   "source": [
    "## **2. Data Acquisition:**"
   ]
  },
  {
   "cell_type": "code",
   "execution_count": 3,
   "metadata": {},
   "outputs": [
    {
     "data": {
      "text/html": [
       "<div>\n",
       "<style scoped>\n",
       "    .dataframe tbody tr th:only-of-type {\n",
       "        vertical-align: middle;\n",
       "    }\n",
       "\n",
       "    .dataframe tbody tr th {\n",
       "        vertical-align: top;\n",
       "    }\n",
       "\n",
       "    .dataframe thead th {\n",
       "        text-align: right;\n",
       "    }\n",
       "</style>\n",
       "<table border=\"1\" class=\"dataframe\">\n",
       "  <thead>\n",
       "    <tr style=\"text-align: right;\">\n",
       "      <th></th>\n",
       "      <th>UDI</th>\n",
       "      <th>Product ID</th>\n",
       "      <th>Type</th>\n",
       "      <th>Air temperature [K]</th>\n",
       "      <th>Process temperature [K]</th>\n",
       "      <th>Rotational speed [rpm]</th>\n",
       "      <th>Torque [Nm]</th>\n",
       "      <th>Tool wear [min]</th>\n",
       "      <th>Target</th>\n",
       "      <th>Failure Type</th>\n",
       "    </tr>\n",
       "  </thead>\n",
       "  <tbody>\n",
       "    <tr>\n",
       "      <th>0</th>\n",
       "      <td>1</td>\n",
       "      <td>M14860</td>\n",
       "      <td>M</td>\n",
       "      <td>298.1</td>\n",
       "      <td>308.6</td>\n",
       "      <td>1551</td>\n",
       "      <td>42.8</td>\n",
       "      <td>0</td>\n",
       "      <td>0</td>\n",
       "      <td>No Failure</td>\n",
       "    </tr>\n",
       "    <tr>\n",
       "      <th>1</th>\n",
       "      <td>2</td>\n",
       "      <td>L47181</td>\n",
       "      <td>L</td>\n",
       "      <td>298.2</td>\n",
       "      <td>308.7</td>\n",
       "      <td>1408</td>\n",
       "      <td>46.3</td>\n",
       "      <td>3</td>\n",
       "      <td>0</td>\n",
       "      <td>No Failure</td>\n",
       "    </tr>\n",
       "    <tr>\n",
       "      <th>2</th>\n",
       "      <td>3</td>\n",
       "      <td>L47182</td>\n",
       "      <td>L</td>\n",
       "      <td>298.1</td>\n",
       "      <td>308.5</td>\n",
       "      <td>1498</td>\n",
       "      <td>49.4</td>\n",
       "      <td>5</td>\n",
       "      <td>0</td>\n",
       "      <td>No Failure</td>\n",
       "    </tr>\n",
       "    <tr>\n",
       "      <th>3</th>\n",
       "      <td>4</td>\n",
       "      <td>L47183</td>\n",
       "      <td>L</td>\n",
       "      <td>298.2</td>\n",
       "      <td>308.6</td>\n",
       "      <td>1433</td>\n",
       "      <td>39.5</td>\n",
       "      <td>7</td>\n",
       "      <td>0</td>\n",
       "      <td>No Failure</td>\n",
       "    </tr>\n",
       "    <tr>\n",
       "      <th>4</th>\n",
       "      <td>5</td>\n",
       "      <td>L47184</td>\n",
       "      <td>L</td>\n",
       "      <td>298.2</td>\n",
       "      <td>308.7</td>\n",
       "      <td>1408</td>\n",
       "      <td>40.0</td>\n",
       "      <td>9</td>\n",
       "      <td>0</td>\n",
       "      <td>No Failure</td>\n",
       "    </tr>\n",
       "  </tbody>\n",
       "</table>\n",
       "</div>"
      ],
      "text/plain": [
       "   UDI Product ID Type  Air temperature [K]  Process temperature [K]  \\\n",
       "0    1     M14860    M                298.1                    308.6   \n",
       "1    2     L47181    L                298.2                    308.7   \n",
       "2    3     L47182    L                298.1                    308.5   \n",
       "3    4     L47183    L                298.2                    308.6   \n",
       "4    5     L47184    L                298.2                    308.7   \n",
       "\n",
       "   Rotational speed [rpm]  Torque [Nm]  Tool wear [min]  Target Failure Type  \n",
       "0                    1551         42.8                0       0   No Failure  \n",
       "1                    1408         46.3                3       0   No Failure  \n",
       "2                    1498         49.4                5       0   No Failure  \n",
       "3                    1433         39.5                7       0   No Failure  \n",
       "4                    1408         40.0                9       0   No Failure  "
      ]
     },
     "execution_count": 3,
     "metadata": {},
     "output_type": "execute_result"
    }
   ],
   "source": [
    "# Read the CSV file into a pandas DataFrame\n",
    "df = pd.read_csv(\"D:\\\\Feynn-Labs-Project-1\\\\project1\\\\predictive_maintenance.csv\")\n",
    "\n",
    "# Display the first few rows of the DataFrame\n",
    "df.head()"
   ]
  },
  {
   "cell_type": "markdown",
   "metadata": {},
   "source": [
    "## **3. Exploratory Data Analysis:**"
   ]
  },
  {
   "cell_type": "code",
   "execution_count": 4,
   "metadata": {},
   "outputs": [
    {
     "data": {
      "text/plain": [
       "Failure Type\n",
       "No Failure                  9652\n",
       "Heat Dissipation Failure     112\n",
       "Power Failure                 95\n",
       "Overstrain Failure            78\n",
       "Tool Wear Failure             45\n",
       "Random Failures               18\n",
       "Name: count, dtype: int64"
      ]
     },
     "execution_count": 4,
     "metadata": {},
     "output_type": "execute_result"
    }
   ],
   "source": [
    "# Count the occurrences of each unique value in the 'Failure Type' column of the DataFrame (assumed as 'df')\n",
    "# and display the result as a series of counts for each unique value.\n",
    "df['Failure Type'].value_counts()"
   ]
  },
  {
   "cell_type": "markdown",
   "metadata": {},
   "source": [
    "##### **Observation: The `Failure Type` column exhibits an imbalance in its value counts.** "
   ]
  },
  {
   "cell_type": "code",
   "execution_count": 5,
   "metadata": {},
   "outputs": [
    {
     "data": {
      "text/plain": [
       "Type\n",
       "L    6000\n",
       "M    2997\n",
       "H    1003\n",
       "Name: count, dtype: int64"
      ]
     },
     "execution_count": 5,
     "metadata": {},
     "output_type": "execute_result"
    }
   ],
   "source": [
    "# Count the occurrences of each unique value in the 'Type' column of the DataFrame 'df'\n",
    "# and display the result as a series of value counts.\n",
    "df.Type.value_counts()"
   ]
  },
  {
   "cell_type": "markdown",
   "metadata": {},
   "source": [
    "```python\n",
    "# Since there are three types (L, M, H), we need to perform one-hot encoding on the 'Type' column.\n",
    "# One-hot encoding converts categorical variables into binary vectors for machine learning models.\n",
    "\n",
    "# One-hot encoding 'Type' column:\n",
    "df = pd.get_dummies(df, columns=['Type'])"
   ]
  },
  {
   "cell_type": "code",
   "execution_count": 6,
   "metadata": {},
   "outputs": [
    {
     "data": {
      "text/html": [
       "<div>\n",
       "<style scoped>\n",
       "    .dataframe tbody tr th:only-of-type {\n",
       "        vertical-align: middle;\n",
       "    }\n",
       "\n",
       "    .dataframe tbody tr th {\n",
       "        vertical-align: top;\n",
       "    }\n",
       "\n",
       "    .dataframe thead th {\n",
       "        text-align: right;\n",
       "    }\n",
       "</style>\n",
       "<table border=\"1\" class=\"dataframe\">\n",
       "  <thead>\n",
       "    <tr style=\"text-align: right;\">\n",
       "      <th></th>\n",
       "      <th>UDI</th>\n",
       "      <th>Product ID</th>\n",
       "      <th>Air temperature [K]</th>\n",
       "      <th>Process temperature [K]</th>\n",
       "      <th>Rotational speed [rpm]</th>\n",
       "      <th>Torque [Nm]</th>\n",
       "      <th>Tool wear [min]</th>\n",
       "      <th>Target</th>\n",
       "      <th>Failure Type</th>\n",
       "      <th>Type_H</th>\n",
       "      <th>Type_L</th>\n",
       "      <th>Type_M</th>\n",
       "    </tr>\n",
       "  </thead>\n",
       "  <tbody>\n",
       "    <tr>\n",
       "      <th>0</th>\n",
       "      <td>1</td>\n",
       "      <td>M14860</td>\n",
       "      <td>298.1</td>\n",
       "      <td>308.6</td>\n",
       "      <td>1551</td>\n",
       "      <td>42.8</td>\n",
       "      <td>0</td>\n",
       "      <td>0</td>\n",
       "      <td>No Failure</td>\n",
       "      <td>0</td>\n",
       "      <td>0</td>\n",
       "      <td>1</td>\n",
       "    </tr>\n",
       "    <tr>\n",
       "      <th>1</th>\n",
       "      <td>2</td>\n",
       "      <td>L47181</td>\n",
       "      <td>298.2</td>\n",
       "      <td>308.7</td>\n",
       "      <td>1408</td>\n",
       "      <td>46.3</td>\n",
       "      <td>3</td>\n",
       "      <td>0</td>\n",
       "      <td>No Failure</td>\n",
       "      <td>0</td>\n",
       "      <td>1</td>\n",
       "      <td>0</td>\n",
       "    </tr>\n",
       "    <tr>\n",
       "      <th>2</th>\n",
       "      <td>3</td>\n",
       "      <td>L47182</td>\n",
       "      <td>298.1</td>\n",
       "      <td>308.5</td>\n",
       "      <td>1498</td>\n",
       "      <td>49.4</td>\n",
       "      <td>5</td>\n",
       "      <td>0</td>\n",
       "      <td>No Failure</td>\n",
       "      <td>0</td>\n",
       "      <td>1</td>\n",
       "      <td>0</td>\n",
       "    </tr>\n",
       "    <tr>\n",
       "      <th>3</th>\n",
       "      <td>4</td>\n",
       "      <td>L47183</td>\n",
       "      <td>298.2</td>\n",
       "      <td>308.6</td>\n",
       "      <td>1433</td>\n",
       "      <td>39.5</td>\n",
       "      <td>7</td>\n",
       "      <td>0</td>\n",
       "      <td>No Failure</td>\n",
       "      <td>0</td>\n",
       "      <td>1</td>\n",
       "      <td>0</td>\n",
       "    </tr>\n",
       "    <tr>\n",
       "      <th>4</th>\n",
       "      <td>5</td>\n",
       "      <td>L47184</td>\n",
       "      <td>298.2</td>\n",
       "      <td>308.7</td>\n",
       "      <td>1408</td>\n",
       "      <td>40.0</td>\n",
       "      <td>9</td>\n",
       "      <td>0</td>\n",
       "      <td>No Failure</td>\n",
       "      <td>0</td>\n",
       "      <td>1</td>\n",
       "      <td>0</td>\n",
       "    </tr>\n",
       "  </tbody>\n",
       "</table>\n",
       "</div>"
      ],
      "text/plain": [
       "   UDI Product ID  Air temperature [K]  Process temperature [K]  \\\n",
       "0    1     M14860                298.1                    308.6   \n",
       "1    2     L47181                298.2                    308.7   \n",
       "2    3     L47182                298.1                    308.5   \n",
       "3    4     L47183                298.2                    308.6   \n",
       "4    5     L47184                298.2                    308.7   \n",
       "\n",
       "   Rotational speed [rpm]  Torque [Nm]  Tool wear [min]  Target Failure Type  \\\n",
       "0                    1551         42.8                0       0   No Failure   \n",
       "1                    1408         46.3                3       0   No Failure   \n",
       "2                    1498         49.4                5       0   No Failure   \n",
       "3                    1433         39.5                7       0   No Failure   \n",
       "4                    1408         40.0                9       0   No Failure   \n",
       "\n",
       "   Type_H  Type_L  Type_M  \n",
       "0       0       0       1  \n",
       "1       0       1       0  \n",
       "2       0       1       0  \n",
       "3       0       1       0  \n",
       "4       0       1       0  "
      ]
     },
     "execution_count": 6,
     "metadata": {},
     "output_type": "execute_result"
    }
   ],
   "source": [
    "# Encode categorical variable 'Type' using one-hot encoding and create dummy columns\n",
    "df1 = pd.get_dummies(df, columns=['Type'])\n",
    "\n",
    "# Convert the dummy columns 'Type_H', 'Type_L', 'Type_M' to integer type\n",
    "df1[['Type_H', 'Type_L', 'Type_M']] = df1[['Type_H', 'Type_L', 'Type_M']].astype(int)\n",
    "\n",
    "# Display the first few rows of the modified DataFrame\n",
    "df1.head()"
   ]
  },
  {
   "cell_type": "code",
   "execution_count": 7,
   "metadata": {},
   "outputs": [
    {
     "data": {
      "text/plain": [
       "array([0, 1], dtype=int64)"
      ]
     },
     "execution_count": 7,
     "metadata": {},
     "output_type": "execute_result"
    }
   ],
   "source": [
    "# Obtain unique values in the 'Target' column of DataFrame df1\n",
    "df1.Target.unique()"
   ]
  },
  {
   "cell_type": "markdown",
   "metadata": {},
   "source": [
    "#### **Explanation:**\r\n",
    "\r\n",
    "The `Target` column in DataFrame `df1` contains binary values, where:\r\n",
    "- `1` indicates machine failure\r\n",
    "- `0` indicates no failure (not faild)\r\n",
    "\r\n"
   ]
  },
  {
   "cell_type": "code",
   "execution_count": 8,
   "metadata": {},
   "outputs": [
    {
     "data": {
      "text/plain": [
       "Failure Type\n",
       "Heat Dissipation Failure    112\n",
       "Power Failure                95\n",
       "Overstrain Failure           78\n",
       "Tool Wear Failure            45\n",
       "No Failure                    9\n",
       "Name: count, dtype: int64"
      ]
     },
     "execution_count": 8,
     "metadata": {},
     "output_type": "execute_result"
    }
   ],
   "source": [
    "# Filter rows in DataFrame df1 where the 'Target' column has a value of 1\n",
    "# Select the 'Failure Type' column from the filtered DataFrame\n",
    "# Count the occurrences of each unique value in the 'Failure Type' column\n",
    "df1[df1.Target == 1]['Failure Type'].value_counts()"
   ]
  },
  {
   "cell_type": "code",
   "execution_count": 9,
   "metadata": {},
   "outputs": [
    {
     "data": {
      "text/plain": [
       "Index(['UDI', 'Product ID', 'Air temperature [K]', 'Process temperature [K]',\n",
       "       'Rotational speed [rpm]', 'Torque [Nm]', 'Tool wear [min]', 'Target',\n",
       "       'Failure Type', 'Type_H', 'Type_L', 'Type_M'],\n",
       "      dtype='object')"
      ]
     },
     "execution_count": 9,
     "metadata": {},
     "output_type": "execute_result"
    }
   ],
   "source": [
    "# Display the columns of the DataFrame 'df1'\n",
    "df1.columns"
   ]
  },
  {
   "cell_type": "markdown",
   "metadata": {},
   "source": [
    "#### **Check for Operation Success:**\r\n",
    "\r\n",
    "Inspect whether the operation on the DataFrame 'df1' for displaying columns was successful or not.\r\n"
   ]
  },
  {
   "cell_type": "markdown",
   "metadata": {},
   "source": [
    "## **4. Feature Engineering:**"
   ]
  },
  {
   "cell_type": "code",
   "execution_count": 10,
   "metadata": {},
   "outputs": [],
   "source": [
    "# Selecting specific columns from DataFrame df1 to create the feature matrix X\n",
    "X = df1[['Air temperature [K]', 'Process temperature [K]',\n",
    "       'Rotational speed [rpm]', 'Torque [Nm]', 'Tool wear [min]',\n",
    "       'Type_H', 'Type_L', 'Type_M']]\n",
    "\n",
    "# Assigning the 'Target' column from DataFrame df1 to the target variable y\n",
    "y = df1.Target"
   ]
  },
  {
   "cell_type": "markdown",
   "metadata": {},
   "source": [
    "##### Due to the presence of imbalanced data, the `imblearn` module is employed to address the class imbalance issue and balance the dataset.\n"
   ]
  },
  {
   "cell_type": "code",
   "execution_count": 11,
   "metadata": {},
   "outputs": [],
   "source": [
    "# Apply SMOTE (Synthetic Minority Over-sampling Technique) to handle imbalanced classes\n",
    "# Create a SMOTE object\n",
    "smote = SMOTE()\n",
    "\n",
    "# Resample the feature set (X) and target variable (y) using SMOTE\n",
    "X_smote, y_smote = smote.fit_resample(X, y)"
   ]
  },
  {
   "cell_type": "code",
   "execution_count": 12,
   "metadata": {},
   "outputs": [],
   "source": [
    "# Split the dataset into training and testing sets using the train_test_split function\n",
    "# X_smote: Features data after applying SMOTE (Synthetic Minority Over-sampling Technique)\n",
    "# y_smote: Target variable data after applying SMOTE\n",
    "# test_size=0.2: Allocating 20% of the data for testing, and the remaining 80% for training\n",
    "# x_train: Training set features\n",
    "# x_test: Testing set features\n",
    "# y_train: Training set target variable\n",
    "# y_test: Testing set target variable\n",
    "x_train, x_test, y_train , y_test = train_test_split(X_smote, y_smote, test_size=0.2)"
   ]
  },
  {
   "cell_type": "markdown",
   "metadata": {},
   "source": [
    "## **5. Machine Learning (Predictive Analytics):**"
   ]
  },
  {
   "cell_type": "code",
   "execution_count": 13,
   "metadata": {},
   "outputs": [
    {
     "name": "stdout",
     "output_type": "stream",
     "text": [
      "LinearRegression\n",
      "LogisticRegression\n"
     ]
    },
    {
     "name": "stderr",
     "output_type": "stream",
     "text": [
      "C:\\Users\\Sudheer Pulapa\\AppData\\Local\\Programs\\Python\\Python311\\Lib\\site-packages\\sklearn\\linear_model\\_logistic.py:458: ConvergenceWarning: lbfgs failed to converge (status=1):\n",
      "STOP: TOTAL NO. of ITERATIONS REACHED LIMIT.\n",
      "\n",
      "Increase the number of iterations (max_iter) or scale the data as shown in:\n",
      "    https://scikit-learn.org/stable/modules/preprocessing.html\n",
      "Please also refer to the documentation for alternative solver options:\n",
      "    https://scikit-learn.org/stable/modules/linear_model.html#logistic-regression\n",
      "  n_iter_i = _check_optimize_result(\n"
     ]
    },
    {
     "name": "stdout",
     "output_type": "stream",
     "text": [
      "DecisionTreeClassifier\n",
      "RandomForestClassifier\n",
      "KNeighborsClassifier\n",
      "GaussianNB\n",
      "MultinomialNB\n",
      "SVC\n"
     ]
    }
   ],
   "source": [
    "# List of machine learning models to be evaluated\n",
    "models = [LinearRegression, LogisticRegression,\n",
    "          DecisionTreeClassifier, RandomForestClassifier,\n",
    "          KNeighborsClassifier, GaussianNB,\n",
    "          MultinomialNB, SVC]\n",
    "\n",
    "# Corresponding names for the models\n",
    "names = ['LinearRegression', 'LogisticRegression',\n",
    "         'DecisionTreeClassifier', 'RandomForestClassifier',\n",
    "         'KNeighborsClassifier', 'GaussianNB',\n",
    "         'MultinomialNB', 'SVC']\n",
    "\n",
    "# List to store model names and their corresponding accuracy scores\n",
    "data = []\n",
    "\n",
    "# Loop through each model and evaluate its performance\n",
    "for name, model in zip(names, models):\n",
    "    # Display the current model being processed\n",
    "    print(name)\n",
    "    \n",
    "    # Initialize the model\n",
    "    m = model()\n",
    "    \n",
    "    # Train the model on the training data\n",
    "    m.fit(x_train, y_train)\n",
    "    \n",
    "    # Evaluate the model's performance on the test data and calculate accuracy score\n",
    "    score = m.score(x_test, y_test)\n",
    "    \n",
    "    # Append model name and accuracy score to the data list\n",
    "    data.append([name, score])\n"
   ]
  },
  {
   "cell_type": "code",
   "execution_count": 14,
   "metadata": {},
   "outputs": [
    {
     "data": {
      "text/html": [
       "<div>\n",
       "<style scoped>\n",
       "    .dataframe tbody tr th:only-of-type {\n",
       "        vertical-align: middle;\n",
       "    }\n",
       "\n",
       "    .dataframe tbody tr th {\n",
       "        vertical-align: top;\n",
       "    }\n",
       "\n",
       "    .dataframe thead th {\n",
       "        text-align: right;\n",
       "    }\n",
       "</style>\n",
       "<table border=\"1\" class=\"dataframe\">\n",
       "  <thead>\n",
       "    <tr style=\"text-align: right;\">\n",
       "      <th></th>\n",
       "      <th>Model name</th>\n",
       "      <th>Score</th>\n",
       "    </tr>\n",
       "  </thead>\n",
       "  <tbody>\n",
       "    <tr>\n",
       "      <th>0</th>\n",
       "      <td>RandomForestClassifier</td>\n",
       "      <td>0.980854</td>\n",
       "    </tr>\n",
       "    <tr>\n",
       "      <th>1</th>\n",
       "      <td>DecisionTreeClassifier</td>\n",
       "      <td>0.974386</td>\n",
       "    </tr>\n",
       "    <tr>\n",
       "      <th>2</th>\n",
       "      <td>KNeighborsClassifier</td>\n",
       "      <td>0.941785</td>\n",
       "    </tr>\n",
       "    <tr>\n",
       "      <th>3</th>\n",
       "      <td>LogisticRegression</td>\n",
       "      <td>0.885640</td>\n",
       "    </tr>\n",
       "    <tr>\n",
       "      <th>4</th>\n",
       "      <td>SVC</td>\n",
       "      <td>0.832083</td>\n",
       "    </tr>\n",
       "    <tr>\n",
       "      <th>5</th>\n",
       "      <td>GaussianNB</td>\n",
       "      <td>0.763519</td>\n",
       "    </tr>\n",
       "    <tr>\n",
       "      <th>6</th>\n",
       "      <td>MultinomialNB</td>\n",
       "      <td>0.642432</td>\n",
       "    </tr>\n",
       "    <tr>\n",
       "      <th>7</th>\n",
       "      <td>LinearRegression</td>\n",
       "      <td>0.596257</td>\n",
       "    </tr>\n",
       "  </tbody>\n",
       "</table>\n",
       "</div>"
      ],
      "text/plain": [
       "               Model name     Score\n",
       "0  RandomForestClassifier  0.980854\n",
       "1  DecisionTreeClassifier  0.974386\n",
       "2    KNeighborsClassifier  0.941785\n",
       "3      LogisticRegression  0.885640\n",
       "4                     SVC  0.832083\n",
       "5              GaussianNB  0.763519\n",
       "6           MultinomialNB  0.642432\n",
       "7        LinearRegression  0.596257"
      ]
     },
     "execution_count": 14,
     "metadata": {},
     "output_type": "execute_result"
    }
   ],
   "source": [
    "# Sort the 'data' list of tuples based on the second element (score) in descending order\n",
    "data.sort(key=lambda x: x[1], reverse=True)\n",
    "\n",
    "# Create a Pandas DataFrame from the sorted 'data' with columns 'Model name' and 'Score'\n",
    "pd.DataFrame(data, columns=['Model name', 'Score'])"
   ]
  },
  {
   "cell_type": "markdown",
   "metadata": {},
   "source": [
    "##### **Training the RandomForestClassifier with an increased number of n_estimators and utilizing the entire dataset for training**\r\n",
    "\r\n",
    "```markdown\r\n",
    "| Model name               | Score    |\r\n",
    "|--------------------------|----------|\r\n",
    "| RandomForestClassifier   | 0.980854 |\r\n",
    "| DecisionTreeClassifier   | 0.974386 |\r\n",
    "| KNeighborsClassifier     | 0.941785 |\r\n",
    "| LogisticRegression       | 0.885640 |\r\n",
    "| SVC                      | 0.832083 |\r\n",
    "| GaussianNB               | 0.763519 |\r\n",
    "| MultinomialNB            | 0.642432 |\r\n",
    "| LinearRegression         | 0.596257 |\r\n"
   ]
  },
  {
   "cell_type": "markdown",
   "metadata": {},
   "source": [
    "### **Random Forest Classifier Algorithm:**"
   ]
  },
  {
   "cell_type": "code",
   "execution_count": 15,
   "metadata": {},
   "outputs": [
    {
     "data": {
      "text/html": [
       "<style>#sk-container-id-1 {color: black;background-color: white;}#sk-container-id-1 pre{padding: 0;}#sk-container-id-1 div.sk-toggleable {background-color: white;}#sk-container-id-1 label.sk-toggleable__label {cursor: pointer;display: block;width: 100%;margin-bottom: 0;padding: 0.3em;box-sizing: border-box;text-align: center;}#sk-container-id-1 label.sk-toggleable__label-arrow:before {content: \"▸\";float: left;margin-right: 0.25em;color: #696969;}#sk-container-id-1 label.sk-toggleable__label-arrow:hover:before {color: black;}#sk-container-id-1 div.sk-estimator:hover label.sk-toggleable__label-arrow:before {color: black;}#sk-container-id-1 div.sk-toggleable__content {max-height: 0;max-width: 0;overflow: hidden;text-align: left;background-color: #f0f8ff;}#sk-container-id-1 div.sk-toggleable__content pre {margin: 0.2em;color: black;border-radius: 0.25em;background-color: #f0f8ff;}#sk-container-id-1 input.sk-toggleable__control:checked~div.sk-toggleable__content {max-height: 200px;max-width: 100%;overflow: auto;}#sk-container-id-1 input.sk-toggleable__control:checked~label.sk-toggleable__label-arrow:before {content: \"▾\";}#sk-container-id-1 div.sk-estimator input.sk-toggleable__control:checked~label.sk-toggleable__label {background-color: #d4ebff;}#sk-container-id-1 div.sk-label input.sk-toggleable__control:checked~label.sk-toggleable__label {background-color: #d4ebff;}#sk-container-id-1 input.sk-hidden--visually {border: 0;clip: rect(1px 1px 1px 1px);clip: rect(1px, 1px, 1px, 1px);height: 1px;margin: -1px;overflow: hidden;padding: 0;position: absolute;width: 1px;}#sk-container-id-1 div.sk-estimator {font-family: monospace;background-color: #f0f8ff;border: 1px dotted black;border-radius: 0.25em;box-sizing: border-box;margin-bottom: 0.5em;}#sk-container-id-1 div.sk-estimator:hover {background-color: #d4ebff;}#sk-container-id-1 div.sk-parallel-item::after {content: \"\";width: 100%;border-bottom: 1px solid gray;flex-grow: 1;}#sk-container-id-1 div.sk-label:hover label.sk-toggleable__label {background-color: #d4ebff;}#sk-container-id-1 div.sk-serial::before {content: \"\";position: absolute;border-left: 1px solid gray;box-sizing: border-box;top: 0;bottom: 0;left: 50%;z-index: 0;}#sk-container-id-1 div.sk-serial {display: flex;flex-direction: column;align-items: center;background-color: white;padding-right: 0.2em;padding-left: 0.2em;position: relative;}#sk-container-id-1 div.sk-item {position: relative;z-index: 1;}#sk-container-id-1 div.sk-parallel {display: flex;align-items: stretch;justify-content: center;background-color: white;position: relative;}#sk-container-id-1 div.sk-item::before, #sk-container-id-1 div.sk-parallel-item::before {content: \"\";position: absolute;border-left: 1px solid gray;box-sizing: border-box;top: 0;bottom: 0;left: 50%;z-index: -1;}#sk-container-id-1 div.sk-parallel-item {display: flex;flex-direction: column;z-index: 1;position: relative;background-color: white;}#sk-container-id-1 div.sk-parallel-item:first-child::after {align-self: flex-end;width: 50%;}#sk-container-id-1 div.sk-parallel-item:last-child::after {align-self: flex-start;width: 50%;}#sk-container-id-1 div.sk-parallel-item:only-child::after {width: 0;}#sk-container-id-1 div.sk-dashed-wrapped {border: 1px dashed gray;margin: 0 0.4em 0.5em 0.4em;box-sizing: border-box;padding-bottom: 0.4em;background-color: white;}#sk-container-id-1 div.sk-label label {font-family: monospace;font-weight: bold;display: inline-block;line-height: 1.2em;}#sk-container-id-1 div.sk-label-container {text-align: center;}#sk-container-id-1 div.sk-container {/* jupyter's `normalize.less` sets `[hidden] { display: none; }` but bootstrap.min.css set `[hidden] { display: none !important; }` so we also need the `!important` here to be able to override the default hidden behavior on the sphinx rendered scikit-learn.org. See: https://github.com/scikit-learn/scikit-learn/issues/21755 */display: inline-block !important;position: relative;}#sk-container-id-1 div.sk-text-repr-fallback {display: none;}</style><div id=\"sk-container-id-1\" class=\"sk-top-container\"><div class=\"sk-text-repr-fallback\"><pre>RandomForestClassifier(n_estimators=300)</pre><b>In a Jupyter environment, please rerun this cell to show the HTML representation or trust the notebook. <br />On GitHub, the HTML representation is unable to render, please try loading this page with nbviewer.org.</b></div><div class=\"sk-container\" hidden><div class=\"sk-item\"><div class=\"sk-estimator sk-toggleable\"><input class=\"sk-toggleable__control sk-hidden--visually\" id=\"sk-estimator-id-1\" type=\"checkbox\" checked><label for=\"sk-estimator-id-1\" class=\"sk-toggleable__label sk-toggleable__label-arrow\">RandomForestClassifier</label><div class=\"sk-toggleable__content\"><pre>RandomForestClassifier(n_estimators=300)</pre></div></div></div></div></div>"
      ],
      "text/plain": [
       "RandomForestClassifier(n_estimators=300)"
      ]
     },
     "execution_count": 15,
     "metadata": {},
     "output_type": "execute_result"
    }
   ],
   "source": [
    "# Create a RandomForestClassifier with 300 decision trees\n",
    "best_model = RandomForestClassifier(n_estimators=300)\n",
    "\n",
    "# Train (fit) the RandomForestClassifier on the resampled training data\n",
    "best_model.fit(X_smote, y_smote)"
   ]
  },
  {
   "cell_type": "markdown",
   "metadata": {},
   "source": [
    "##### Creating a function that takes X values as input and returns predictions for failure.\n"
   ]
  },
  {
   "cell_type": "code",
   "execution_count": 16,
   "metadata": {},
   "outputs": [],
   "source": [
    "# Function definition for 'is_failure'\n",
    "def is_failure(x):\n",
    "    # Create dummy variables for the 'Type' column using one-hot encoding\n",
    "    df1 = pd.get_dummies(x, columns=['Type'])\n",
    "\n",
    "    # Convert the one-hot encoded columns 'Type_H', 'Type_L', 'Type_M' to integer type\n",
    "    df1[['Type_H', 'Type_L', 'Type_M']] = df1[['Type_H', 'Type_L', 'Type_M']].astype(int)\n",
    "    \n",
    "    # Return the predictions using the 'best_model' on the modified DataFrame 'df1'\n",
    "    return best_model.predict(df1)"
   ]
  },
  {
   "cell_type": "code",
   "execution_count": 17,
   "metadata": {},
   "outputs": [
    {
     "data": {
      "text/plain": [
       "Index(['UDI', 'Product ID', 'Type', 'Air temperature [K]',\n",
       "       'Process temperature [K]', 'Rotational speed [rpm]', 'Torque [Nm]',\n",
       "       'Tool wear [min]', 'Target', 'Failure Type'],\n",
       "      dtype='object')"
      ]
     },
     "execution_count": 17,
     "metadata": {},
     "output_type": "execute_result"
    }
   ],
   "source": [
    "df.columns"
   ]
  },
  {
   "cell_type": "code",
   "execution_count": 18,
   "metadata": {},
   "outputs": [
    {
     "name": "stdout",
     "output_type": "stream",
     "text": [
      "(10000, 6)\n"
     ]
    },
    {
     "data": {
      "text/plain": [
       "1.0"
      ]
     },
     "execution_count": 18,
     "metadata": {},
     "output_type": "execute_result"
    }
   ],
   "source": [
    "# Extracting a subset of features from the DataFrame 'df'\n",
    "# Selecting columns: 'Type', 'Air temperature [K]', 'Process temperature [K]', \n",
    "# 'Rotational speed [rpm]', 'Torque [Nm]', 'Tool wear [min]'\n",
    "x = df[['Type', 'Air temperature [K]', 'Process temperature [K]', 'Rotational speed [rpm]', 'Torque [Nm]', 'Tool wear [min]']]\n",
    "\n",
    "# Printing the shape of the extracted feature subset\n",
    "print(x.shape)\n",
    "\n",
    "# Calculating the accuracy score by comparing the predictions obtained from 'is_failure(x)' \n",
    "# with the actual values in the 'Target' column of the DataFrame 'df'\n",
    "accuracy_score(is_failure(x), df.Target)"
   ]
  },
  {
   "cell_type": "markdown",
   "metadata": {},
   "source": [
    "> Testing the model with actual data without oversampling:\r\n",
    "\r\n",
    "Extracting a specific set of features from the DataFrame 'df' for testing. The selected columns include: 'Type', 'Air temperature [K]', 'Process temperature [K]', 'Rotational speed [rpm]', 'Torque [Nm]', and 'Tool wear [min]'.\r\n",
    "\r\n",
    "Printing the shape of the extracted feature subset.\r\n",
    "\r\n",
    "Calculating the accuracy score by comparing the predictions obtained from the 'is_failure(x)' function with the actual values in the 'Target' column of the DataFrame 'df'.\r\n"
   ]
  },
  {
   "cell_type": "markdown",
   "metadata": {},
   "source": [
    "### **Saving the Model:**"
   ]
  },
  {
   "cell_type": "code",
   "execution_count": 19,
   "metadata": {},
   "outputs": [],
   "source": [
    "# Check if the 'models' directory exists; if not, create it\n",
    "if not os.path.exists('models'):\n",
    "    os.mkdir('models')\n",
    "\n",
    "# Save the best_model using pickle in the 'models' directory\n",
    "with open('models/is_failure.pkl', 'wb') as f:\n",
    "    pickle.dump(best_model, f)"
   ]
  },
  {
   "cell_type": "markdown",
   "metadata": {},
   "source": [
    "# **Failure Type:**"
   ]
  },
  {
   "cell_type": "code",
   "execution_count": 20,
   "metadata": {},
   "outputs": [],
   "source": [
    "# Selecting specific columns as features (independent variables) from the DataFrame df1\n",
    "X = df1[['Air temperature [K]', 'Process temperature [K]',\n",
    "       'Rotational speed [rpm]', 'Torque [Nm]', 'Tool wear [min]',\n",
    "       'Type_H', 'Type_L', 'Type_M']]\n",
    "\n",
    "# Selecting the 'Failure Type' column as the target variable (dependent variable) from the DataFrame df1\n",
    "y = df1['Failure Type']\n"
   ]
  },
  {
   "cell_type": "markdown",
   "metadata": {},
   "source": [
    "```python\r\n",
    "# Extracting specific columns as features (independent variables) from DataFrame df1\r\n",
    "X = df1[['Air temperature [K]', 'Process temperature [K]',\r\n",
    "       'Rotational speed [rpm]', 'Torque [Nm]', 'Tool wear [min]',\r\n",
    "       'Type_H', 'Type_L', 'Type_M']]\r\n",
    "\r\n",
    "# Converting string values in the 'Failure Type' column to integer format for the target variable (dependent variable) in DataFrame df1\r\n",
    "y = df1['Failure Type']\r\n"
   ]
  },
  {
   "cell_type": "code",
   "execution_count": 21,
   "metadata": {},
   "outputs": [],
   "source": [
    "# Create a dictionary for label encoding, where each unique value in 'y' is assigned a numerical label\n",
    "labelEncoding = {j: i for i, j in enumerate(y.unique())}\n",
    "\n",
    "# Create an inverse dictionary to map numerical labels back to their original values\n",
    "inverse = {j: i for i, j in labelEncoding.items()}\n",
    "\n",
    "# Apply label encoding to the 'y' variable using the created mapping\n",
    "y = y.map(labelEncoding)"
   ]
  },
  {
   "cell_type": "code",
   "execution_count": 22,
   "metadata": {},
   "outputs": [
    {
     "data": {
      "text/plain": [
       "{'No Failure': 0,\n",
       " 'Power Failure': 1,\n",
       " 'Tool Wear Failure': 2,\n",
       " 'Overstrain Failure': 3,\n",
       " 'Random Failures': 4,\n",
       " 'Heat Dissipation Failure': 5}"
      ]
     },
     "execution_count": 22,
     "metadata": {},
     "output_type": "execute_result"
    }
   ],
   "source": [
    "labelEncoding"
   ]
  },
  {
   "cell_type": "code",
   "execution_count": 23,
   "metadata": {},
   "outputs": [
    {
     "data": {
      "text/plain": [
       "{0: 'No Failure',\n",
       " 1: 'Power Failure',\n",
       " 2: 'Tool Wear Failure',\n",
       " 3: 'Overstrain Failure',\n",
       " 4: 'Random Failures',\n",
       " 5: 'Heat Dissipation Failure'}"
      ]
     },
     "execution_count": 23,
     "metadata": {},
     "output_type": "execute_result"
    }
   ],
   "source": [
    "inverse"
   ]
  },
  {
   "cell_type": "code",
   "execution_count": 24,
   "metadata": {},
   "outputs": [
    {
     "data": {
      "text/plain": [
       "0       No Failure\n",
       "1       No Failure\n",
       "2       No Failure\n",
       "3       No Failure\n",
       "4       No Failure\n",
       "           ...    \n",
       "9995    No Failure\n",
       "9996    No Failure\n",
       "9997    No Failure\n",
       "9998    No Failure\n",
       "9999    No Failure\n",
       "Name: Failure Type, Length: 10000, dtype: object"
      ]
     },
     "execution_count": 24,
     "metadata": {},
     "output_type": "execute_result"
    }
   ],
   "source": [
    "y.map(inverse)"
   ]
  },
  {
   "cell_type": "markdown",
   "metadata": {},
   "source": [
    "#### **Handling Unbalanced Failure Types:**\r\n",
    "\r\n",
    "As the failure types are unbalanced, we need to address this issue through oversampling.\r\n",
    "\r\n",
    "We will perform oversampling to balance the distribution of failure types in the dataset. Specifically, we will apply a technique such as Synthetic Minority Over-sampling Technique (SMOTE) to create synthetic samples for the minority failure types, ensuring a more balanced representation of failure classes.\r\n",
    "\r\n",
    "This step is crucial to prevent bias in the machine learning model and enhance its ability to accurately predict and generalize across different failure types.\r\n"
   ]
  },
  {
   "cell_type": "code",
   "execution_count": 25,
   "metadata": {},
   "outputs": [],
   "source": [
    "# Create a SMOTE (Synthetic Minority Over-sampling Technique) object\n",
    "smote = SMOTE()\n",
    "\n",
    "# Apply SMOTE to the feature set (X) and target variable (y)\n",
    "X_smote, y_smote = smote.fit_resample(X, y)"
   ]
  },
  {
   "cell_type": "code",
   "execution_count": 26,
   "metadata": {},
   "outputs": [],
   "source": [
    "# Split the dataset into training and testing sets using the train_test_split function\n",
    "# X_smote and y_smote are assumed to be the features and target variable after applying SMOTE\n",
    "\n",
    "# x_train: Training set features\n",
    "# x_test: Testing set features\n",
    "# y_train: Training set target variable\n",
    "# y_test: Testing set target variable\n",
    "\n",
    "# The test_size parameter is set to 0.2, indicating that 20% of the data will be used for testing,\n",
    "# and the remaining 80% will be used for training.\n",
    "\n",
    "x_train, x_test, y_train, y_test = train_test_split(X_smote, y_smote, test_size=0.2)"
   ]
  },
  {
   "cell_type": "code",
   "execution_count": 27,
   "metadata": {},
   "outputs": [
    {
     "name": "stdout",
     "output_type": "stream",
     "text": [
      "LinearRegression\n",
      "LogisticRegression\n"
     ]
    },
    {
     "name": "stderr",
     "output_type": "stream",
     "text": [
      "C:\\Users\\Sudheer Pulapa\\AppData\\Local\\Programs\\Python\\Python311\\Lib\\site-packages\\sklearn\\linear_model\\_logistic.py:458: ConvergenceWarning: lbfgs failed to converge (status=1):\n",
      "STOP: TOTAL NO. of ITERATIONS REACHED LIMIT.\n",
      "\n",
      "Increase the number of iterations (max_iter) or scale the data as shown in:\n",
      "    https://scikit-learn.org/stable/modules/preprocessing.html\n",
      "Please also refer to the documentation for alternative solver options:\n",
      "    https://scikit-learn.org/stable/modules/linear_model.html#logistic-regression\n",
      "  n_iter_i = _check_optimize_result(\n"
     ]
    },
    {
     "name": "stdout",
     "output_type": "stream",
     "text": [
      "DecisionTreeClassifier\n",
      "RandomForestClassifier\n",
      "KNeighborsClassifier\n",
      "GaussianNB\n",
      "MultinomialNB\n"
     ]
    }
   ],
   "source": [
    "# List of machine learning models to be evaluated\n",
    "models = [LinearRegression, LogisticRegression,\n",
    "          DecisionTreeClassifier, RandomForestClassifier,\n",
    "          KNeighborsClassifier, GaussianNB,\n",
    "          MultinomialNB]\n",
    "\n",
    "# Corresponding names of the models for identification\n",
    "names = ['LinearRegression', 'LogisticRegression',\n",
    "          'DecisionTreeClassifier', 'RandomForestClassifier',\n",
    "          'KNeighborsClassifier', 'GaussianNB',\n",
    "          'MultinomialNB']\n",
    "\n",
    "# Container to store model names and their corresponding scores\n",
    "data = []\n",
    "\n",
    "# Iterate over the models and evaluate their performance\n",
    "for name, model in zip(names, models):\n",
    "    print(name)  # Display the name of the current model\n",
    "    m = model()  # Create an instance of the model\n",
    "    m.fit(x_train, y_train)  # Train the model with training data\n",
    "    score = m.score(x_test, y_test)  # Evaluate the model on the test data\n",
    "    data.append([name, score])  # Store the model name and score in the data list\n"
   ]
  },
  {
   "cell_type": "code",
   "execution_count": 28,
   "metadata": {
    "scrolled": true
   },
   "outputs": [
    {
     "data": {
      "text/html": [
       "<div>\n",
       "<style scoped>\n",
       "    .dataframe tbody tr th:only-of-type {\n",
       "        vertical-align: middle;\n",
       "    }\n",
       "\n",
       "    .dataframe tbody tr th {\n",
       "        vertical-align: top;\n",
       "    }\n",
       "\n",
       "    .dataframe thead th {\n",
       "        text-align: right;\n",
       "    }\n",
       "</style>\n",
       "<table border=\"1\" class=\"dataframe\">\n",
       "  <thead>\n",
       "    <tr style=\"text-align: right;\">\n",
       "      <th></th>\n",
       "      <th>Model name</th>\n",
       "      <th>Score</th>\n",
       "    </tr>\n",
       "  </thead>\n",
       "  <tbody>\n",
       "    <tr>\n",
       "      <th>0</th>\n",
       "      <td>RandomForestClassifier</td>\n",
       "      <td>0.994820</td>\n",
       "    </tr>\n",
       "    <tr>\n",
       "      <th>1</th>\n",
       "      <td>DecisionTreeClassifier</td>\n",
       "      <td>0.989640</td>\n",
       "    </tr>\n",
       "    <tr>\n",
       "      <th>2</th>\n",
       "      <td>KNeighborsClassifier</td>\n",
       "      <td>0.948804</td>\n",
       "    </tr>\n",
       "    <tr>\n",
       "      <th>3</th>\n",
       "      <td>LogisticRegression</td>\n",
       "      <td>0.768281</td>\n",
       "    </tr>\n",
       "    <tr>\n",
       "      <th>4</th>\n",
       "      <td>GaussianNB</td>\n",
       "      <td>0.702581</td>\n",
       "    </tr>\n",
       "    <tr>\n",
       "      <th>5</th>\n",
       "      <td>MultinomialNB</td>\n",
       "      <td>0.523699</td>\n",
       "    </tr>\n",
       "    <tr>\n",
       "      <th>6</th>\n",
       "      <td>LinearRegression</td>\n",
       "      <td>0.316707</td>\n",
       "    </tr>\n",
       "  </tbody>\n",
       "</table>\n",
       "</div>"
      ],
      "text/plain": [
       "               Model name     Score\n",
       "0  RandomForestClassifier  0.994820\n",
       "1  DecisionTreeClassifier  0.989640\n",
       "2    KNeighborsClassifier  0.948804\n",
       "3      LogisticRegression  0.768281\n",
       "4              GaussianNB  0.702581\n",
       "5           MultinomialNB  0.523699\n",
       "6        LinearRegression  0.316707"
      ]
     },
     "execution_count": 28,
     "metadata": {},
     "output_type": "execute_result"
    }
   ],
   "source": [
    "# Sort the 'data' list of tuples based on the second element of each tuple (index 1)\n",
    "# Sorting is done in descending order (reverse=True) to have higher scores first\n",
    "data.sort(key=lambda x: x[1], reverse=True)\n",
    "\n",
    "# Create a Pandas DataFrame from the sorted 'data' list\n",
    "# Specify column names as 'Model name' and 'Score'\n",
    "pd.DataFrame(data, columns=['Model name', 'Score'])"
   ]
  },
  {
   "cell_type": "markdown",
   "metadata": {},
   "source": [
    "#### Training RandomForestClassifier with Increased n_estimators\r\n",
    "\r\n",
    "Considering the table above, it appears that the RandomForestClassifier is a promising model for the given problem. To enhance its performance, we will train the RandomForestClassifier with a higher number of `n_estimators` using the entire dataset for trainin.\r\n"
   ]
  },
  {
   "cell_type": "code",
   "execution_count": 29,
   "metadata": {
    "scrolled": true
   },
   "outputs": [
    {
     "data": {
      "text/html": [
       "<style>#sk-container-id-2 {color: black;background-color: white;}#sk-container-id-2 pre{padding: 0;}#sk-container-id-2 div.sk-toggleable {background-color: white;}#sk-container-id-2 label.sk-toggleable__label {cursor: pointer;display: block;width: 100%;margin-bottom: 0;padding: 0.3em;box-sizing: border-box;text-align: center;}#sk-container-id-2 label.sk-toggleable__label-arrow:before {content: \"▸\";float: left;margin-right: 0.25em;color: #696969;}#sk-container-id-2 label.sk-toggleable__label-arrow:hover:before {color: black;}#sk-container-id-2 div.sk-estimator:hover label.sk-toggleable__label-arrow:before {color: black;}#sk-container-id-2 div.sk-toggleable__content {max-height: 0;max-width: 0;overflow: hidden;text-align: left;background-color: #f0f8ff;}#sk-container-id-2 div.sk-toggleable__content pre {margin: 0.2em;color: black;border-radius: 0.25em;background-color: #f0f8ff;}#sk-container-id-2 input.sk-toggleable__control:checked~div.sk-toggleable__content {max-height: 200px;max-width: 100%;overflow: auto;}#sk-container-id-2 input.sk-toggleable__control:checked~label.sk-toggleable__label-arrow:before {content: \"▾\";}#sk-container-id-2 div.sk-estimator input.sk-toggleable__control:checked~label.sk-toggleable__label {background-color: #d4ebff;}#sk-container-id-2 div.sk-label input.sk-toggleable__control:checked~label.sk-toggleable__label {background-color: #d4ebff;}#sk-container-id-2 input.sk-hidden--visually {border: 0;clip: rect(1px 1px 1px 1px);clip: rect(1px, 1px, 1px, 1px);height: 1px;margin: -1px;overflow: hidden;padding: 0;position: absolute;width: 1px;}#sk-container-id-2 div.sk-estimator {font-family: monospace;background-color: #f0f8ff;border: 1px dotted black;border-radius: 0.25em;box-sizing: border-box;margin-bottom: 0.5em;}#sk-container-id-2 div.sk-estimator:hover {background-color: #d4ebff;}#sk-container-id-2 div.sk-parallel-item::after {content: \"\";width: 100%;border-bottom: 1px solid gray;flex-grow: 1;}#sk-container-id-2 div.sk-label:hover label.sk-toggleable__label {background-color: #d4ebff;}#sk-container-id-2 div.sk-serial::before {content: \"\";position: absolute;border-left: 1px solid gray;box-sizing: border-box;top: 0;bottom: 0;left: 50%;z-index: 0;}#sk-container-id-2 div.sk-serial {display: flex;flex-direction: column;align-items: center;background-color: white;padding-right: 0.2em;padding-left: 0.2em;position: relative;}#sk-container-id-2 div.sk-item {position: relative;z-index: 1;}#sk-container-id-2 div.sk-parallel {display: flex;align-items: stretch;justify-content: center;background-color: white;position: relative;}#sk-container-id-2 div.sk-item::before, #sk-container-id-2 div.sk-parallel-item::before {content: \"\";position: absolute;border-left: 1px solid gray;box-sizing: border-box;top: 0;bottom: 0;left: 50%;z-index: -1;}#sk-container-id-2 div.sk-parallel-item {display: flex;flex-direction: column;z-index: 1;position: relative;background-color: white;}#sk-container-id-2 div.sk-parallel-item:first-child::after {align-self: flex-end;width: 50%;}#sk-container-id-2 div.sk-parallel-item:last-child::after {align-self: flex-start;width: 50%;}#sk-container-id-2 div.sk-parallel-item:only-child::after {width: 0;}#sk-container-id-2 div.sk-dashed-wrapped {border: 1px dashed gray;margin: 0 0.4em 0.5em 0.4em;box-sizing: border-box;padding-bottom: 0.4em;background-color: white;}#sk-container-id-2 div.sk-label label {font-family: monospace;font-weight: bold;display: inline-block;line-height: 1.2em;}#sk-container-id-2 div.sk-label-container {text-align: center;}#sk-container-id-2 div.sk-container {/* jupyter's `normalize.less` sets `[hidden] { display: none; }` but bootstrap.min.css set `[hidden] { display: none !important; }` so we also need the `!important` here to be able to override the default hidden behavior on the sphinx rendered scikit-learn.org. See: https://github.com/scikit-learn/scikit-learn/issues/21755 */display: inline-block !important;position: relative;}#sk-container-id-2 div.sk-text-repr-fallback {display: none;}</style><div id=\"sk-container-id-2\" class=\"sk-top-container\"><div class=\"sk-text-repr-fallback\"><pre>RandomForestClassifier(n_estimators=300)</pre><b>In a Jupyter environment, please rerun this cell to show the HTML representation or trust the notebook. <br />On GitHub, the HTML representation is unable to render, please try loading this page with nbviewer.org.</b></div><div class=\"sk-container\" hidden><div class=\"sk-item\"><div class=\"sk-estimator sk-toggleable\"><input class=\"sk-toggleable__control sk-hidden--visually\" id=\"sk-estimator-id-2\" type=\"checkbox\" checked><label for=\"sk-estimator-id-2\" class=\"sk-toggleable__label sk-toggleable__label-arrow\">RandomForestClassifier</label><div class=\"sk-toggleable__content\"><pre>RandomForestClassifier(n_estimators=300)</pre></div></div></div></div></div>"
      ],
      "text/plain": [
       "RandomForestClassifier(n_estimators=300)"
      ]
     },
     "execution_count": 29,
     "metadata": {},
     "output_type": "execute_result"
    }
   ],
   "source": [
    "# Instantiate a RandomForestClassifier with 300 decision trees\n",
    "best_model = RandomForestClassifier(n_estimators=300)\n",
    "\n",
    "# Train the RandomForestClassifier using the SMOTE-resampled training data\n",
    "best_model.fit(X_smote, y_smote)"
   ]
  },
  {
   "cell_type": "markdown",
   "metadata": {},
   "source": [
    "#### Creating a function that takes input values (X) and returns predictions for the 'failure_type'.\n"
   ]
  },
  {
   "cell_type": "code",
   "execution_count": 30,
   "metadata": {},
   "outputs": [],
   "source": [
    "# Define a function 'failure_type' that takes a DataFrame 'x' as input\n",
    "def failure_type(x):\n",
    "    \n",
    "    # Use 'pd.get_dummies' to one-hot encode the 'Type' column in the DataFrame 'x'\n",
    "    df1 = pd.get_dummies(x, columns=['Type'])\n",
    "    \n",
    "    # Convert the one-hot encoded columns 'Type_H', 'Type_L', 'Type_M' to integers\n",
    "    df1[['Type_H', 'Type_L', 'Type_M']] = df1[['Type_H', 'Type_L', 'Type_M']].astype(int)\n",
    "    \n",
    "    # Use the 'best_model' to predict the failure type for the preprocessed DataFrame 'df1'\n",
    "    return best_model.predict(df1)"
   ]
  },
  {
   "cell_type": "code",
   "execution_count": 31,
   "metadata": {},
   "outputs": [
    {
     "name": "stdout",
     "output_type": "stream",
     "text": [
      "(10000, 6)\n"
     ]
    },
    {
     "data": {
      "text/plain": [
       "1.0"
      ]
     },
     "execution_count": 31,
     "metadata": {},
     "output_type": "execute_result"
    }
   ],
   "source": [
    "# Extracting specific columns from the DataFrame 'df' and creating a new DataFrame 'x'\n",
    "x = df[['Type', 'Air temperature [K]', 'Process temperature [K]', 'Rotational speed [rpm]', 'Torque [Nm]', 'Tool wear [min]']]\n",
    "\n",
    "# Displaying the shape of the DataFrame 'x'\n",
    "print(x.shape)\n",
    "\n",
    "# Making predictions using the 'failure_type' function on the extracted features 'x'\n",
    "prediction = failure_type(x)\n",
    "\n",
    "# Calculating and printing the accuracy score using the true 'Failure Type' values from 'df'\n",
    "# and the predicted values obtained from the 'failure_type' function\n",
    "accuracy_score(df['Failure Type'].map(labelEncoding), prediction)"
   ]
  },
  {
   "cell_type": "markdown",
   "metadata": {},
   "source": [
    "* Testing the model with actual data without oversampling\n",
    "* Saving the failure_type model"
   ]
  },
  {
   "cell_type": "code",
   "execution_count": 32,
   "metadata": {},
   "outputs": [],
   "source": [
    "# Save the trained machine learning model to a file using pickle\n",
    "# The file is named 'failure_type.pkl' and is stored in the 'models' directory\n",
    "with open('models/failure_type.pkl', 'wb') as f:\n",
    "    # Use pickle to dump the best_model object into the file\n",
    "    pickle.dump(best_model, f)"
   ]
  },
  {
   "cell_type": "markdown",
   "metadata": {},
   "source": [
    "Saving the inverse dictionary for converting integer values of predicted outcomes back into their corresponding string representations.\n"
   ]
  },
  {
   "cell_type": "code",
   "execution_count": 33,
   "metadata": {},
   "outputs": [],
   "source": [
    "# Save the 'inverse' object using pickle for later use in the 'models' directory\n",
    "# 'wb' mode is used for writing in binary format\n",
    "with open('models/encoding.pkl', 'wb') as f:\n",
    "    # Dump the 'inverse' object into the file handle 'f'\n",
    "    pickle.dump(inverse, f)"
   ]
  },
  {
   "cell_type": "code",
   "execution_count": 34,
   "metadata": {},
   "outputs": [
    {
     "data": {
      "text/plain": [
       "0       No Failure\n",
       "1       No Failure\n",
       "2       No Failure\n",
       "3       No Failure\n",
       "4       No Failure\n",
       "           ...    \n",
       "9995    No Failure\n",
       "9996    No Failure\n",
       "9997    No Failure\n",
       "9998    No Failure\n",
       "9999    No Failure\n",
       "Length: 10000, dtype: object"
      ]
     },
     "execution_count": 34,
     "metadata": {},
     "output_type": "execute_result"
    }
   ],
   "source": [
    "# Create a pandas Series using the predicted values\n",
    "# prediction is assumed to be a list or array containing the predicted values\n",
    "\n",
    "# Map the predicted values to their corresponding original values using the 'inverse' mapping\n",
    "# inverse is assumed to be a mapping or function to convert predicted values back to their original form\n",
    "# The result is a Series containing the original values corresponding to the predicted values\n",
    "pd.Series(prediction).map(inverse)"
   ]
  },
  {
   "cell_type": "markdown",
   "metadata": {},
   "source": [
    "> **By employing the provided code, we can transform the predicted values into the corresponding failure_type using the 'inverse' mapping.**\n"
   ]
  }
 ],
 "metadata": {
  "kernelspec": {
   "display_name": "Python 3 (ipykernel)",
   "language": "python",
   "name": "python3"
  },
  "language_info": {
   "codemirror_mode": {
    "name": "ipython",
    "version": 3
   },
   "file_extension": ".py",
   "mimetype": "text/x-python",
   "name": "python",
   "nbconvert_exporter": "python",
   "pygments_lexer": "ipython3",
   "version": "3.11.4"
  }
 },
 "nbformat": 4,
 "nbformat_minor": 4
}
